{
 "cells": [
  {
   "cell_type": "code",
   "execution_count": 8,
   "metadata": {},
   "outputs": [],
   "source": [
    "import pandas as pd"
   ]
  },
  {
   "cell_type": "markdown",
   "metadata": {},
   "source": [
    "Melakukan Cleaning untuk dataset Test"
   ]
  },
  {
   "cell_type": "code",
   "execution_count": 9,
   "metadata": {},
   "outputs": [],
   "source": [
    "data_awal = pd.read_csv('dataset/Test.csv')"
   ]
  },
  {
   "cell_type": "code",
   "execution_count": 10,
   "metadata": {},
   "outputs": [
    {
     "name": "stdout",
     "output_type": "stream",
     "text": [
      "<class 'pandas.core.frame.DataFrame'>\n",
      "RangeIndex: 2627 entries, 0 to 2626\n",
      "Data columns (total 10 columns):\n",
      " #   Column           Non-Null Count  Dtype  \n",
      "---  ------           --------------  -----  \n",
      " 0   ID               2627 non-null   int64  \n",
      " 1   Gender           2627 non-null   object \n",
      " 2   Ever_Married     2577 non-null   object \n",
      " 3   Age              2627 non-null   int64  \n",
      " 4   Graduated        2603 non-null   object \n",
      " 5   Profession       2589 non-null   object \n",
      " 6   Work_Experience  2358 non-null   float64\n",
      " 7   Spending_Score   2627 non-null   object \n",
      " 8   Family_Size      2514 non-null   float64\n",
      " 9   Var_1            2595 non-null   object \n",
      "dtypes: float64(2), int64(2), object(6)\n",
      "memory usage: 205.4+ KB\n"
     ]
    }
   ],
   "source": [
    "data_awal.info()"
   ]
  },
  {
   "cell_type": "code",
   "execution_count": 11,
   "metadata": {},
   "outputs": [
    {
     "data": {
      "text/plain": [
       "0"
      ]
     },
     "execution_count": 11,
     "metadata": {},
     "output_type": "execute_result"
    }
   ],
   "source": [
    "data_awal.duplicated().sum()"
   ]
  },
  {
   "cell_type": "code",
   "execution_count": 12,
   "metadata": {},
   "outputs": [
    {
     "data": {
      "text/plain": [
       "ID                   0\n",
       "Gender               0\n",
       "Ever_Married        50\n",
       "Age                  0\n",
       "Graduated           24\n",
       "Profession          38\n",
       "Work_Experience    269\n",
       "Spending_Score       0\n",
       "Family_Size        113\n",
       "Var_1               32\n",
       "dtype: int64"
      ]
     },
     "execution_count": 12,
     "metadata": {},
     "output_type": "execute_result"
    }
   ],
   "source": [
    "data_awal.isna().sum()"
   ]
  },
  {
   "cell_type": "markdown",
   "metadata": {},
   "source": [
    "Cleaning Field Ever Married"
   ]
  },
  {
   "cell_type": "code",
   "execution_count": 14,
   "metadata": {},
   "outputs": [
    {
     "name": "stdout",
     "output_type": "stream",
     "text": [
      "<class 'pandas.core.frame.DataFrame'>\n",
      "RangeIndex: 2627 entries, 0 to 2626\n",
      "Data columns (total 10 columns):\n",
      " #   Column           Non-Null Count  Dtype  \n",
      "---  ------           --------------  -----  \n",
      " 0   ID               2627 non-null   int64  \n",
      " 1   Gender           2627 non-null   object \n",
      " 2   Ever_Married     2627 non-null   object \n",
      " 3   Age              2627 non-null   int64  \n",
      " 4   Graduated        2603 non-null   object \n",
      " 5   Profession       2589 non-null   object \n",
      " 6   Work_Experience  2358 non-null   float64\n",
      " 7   Spending_Score   2627 non-null   object \n",
      " 8   Family_Size      2514 non-null   float64\n",
      " 9   Var_1            2595 non-null   object \n",
      "dtypes: float64(2), int64(2), object(6)\n",
      "memory usage: 205.4+ KB\n"
     ]
    },
    {
     "name": "stderr",
     "output_type": "stream",
     "text": [
      "C:\\Users\\luthf\\AppData\\Local\\Temp\\ipykernel_103196\\4129376683.py:3: FutureWarning: A value is trying to be set on a copy of a DataFrame or Series through chained assignment using an inplace method.\n",
      "The behavior will change in pandas 3.0. This inplace method will never work because the intermediate object on which we are setting values always behaves as a copy.\n",
      "\n",
      "For example, when doing 'df[col].method(value, inplace=True)', try using 'df.method({col: value}, inplace=True)' or df[col] = df[col].method(value) instead, to perform the operation inplace on the original object.\n",
      "\n",
      "\n",
      "  data_awal['Ever_Married'].fillna(paling_sering_muncul,inplace=True)\n"
     ]
    }
   ],
   "source": [
    "#mengini nilai null pada field dengan menggunakan kata yang sering muncul\n",
    "paling_sering_muncul = data_awal['Ever_Married'].mode()[0]\n",
    "data_awal['Ever_Married'].fillna(paling_sering_muncul,inplace=True)\n",
    "data_awal['Ever_Married'].isnull().sum()\n",
    "data_awal.info()"
   ]
  },
  {
   "cell_type": "markdown",
   "metadata": {},
   "source": [
    "Cleaning field Graduated"
   ]
  },
  {
   "cell_type": "code",
   "execution_count": 15,
   "metadata": {},
   "outputs": [
    {
     "name": "stdout",
     "output_type": "stream",
     "text": [
      "setelah diproses : 0\n",
      "<class 'pandas.core.frame.DataFrame'>\n",
      "RangeIndex: 2627 entries, 0 to 2626\n",
      "Data columns (total 10 columns):\n",
      " #   Column           Non-Null Count  Dtype  \n",
      "---  ------           --------------  -----  \n",
      " 0   ID               2627 non-null   int64  \n",
      " 1   Gender           2627 non-null   object \n",
      " 2   Ever_Married     2627 non-null   object \n",
      " 3   Age              2627 non-null   int64  \n",
      " 4   Graduated        2627 non-null   object \n",
      " 5   Profession       2589 non-null   object \n",
      " 6   Work_Experience  2358 non-null   float64\n",
      " 7   Spending_Score   2627 non-null   object \n",
      " 8   Family_Size      2514 non-null   float64\n",
      " 9   Var_1            2595 non-null   object \n",
      "dtypes: float64(2), int64(2), object(6)\n",
      "memory usage: 205.4+ KB\n",
      "None\n"
     ]
    },
    {
     "name": "stderr",
     "output_type": "stream",
     "text": [
      "C:\\Users\\luthf\\AppData\\Local\\Temp\\ipykernel_103196\\3686856172.py:4: FutureWarning: A value is trying to be set on a copy of a DataFrame or Series through chained assignment using an inplace method.\n",
      "The behavior will change in pandas 3.0. This inplace method will never work because the intermediate object on which we are setting values always behaves as a copy.\n",
      "\n",
      "For example, when doing 'df[col].method(value, inplace=True)', try using 'df.method({col: value}, inplace=True)' or df[col] = df[col].method(value) instead, to perform the operation inplace on the original object.\n",
      "\n",
      "\n",
      "  data_awal['Graduated'].fillna('Yes',inplace=True)\n"
     ]
    }
   ],
   "source": [
    "#mengganti field kosong dengan menggunakan teks 'Yes'\n",
    "#karena field 'Graduated' yang kosong mayoritas work experience nya 1\n",
    "#jika professionnya kosong, dianggap jobless\n",
    "data_awal['Graduated'].fillna('Yes',inplace=True)\n",
    "print(f'setelah diproses : {data_awal['Graduated'].isna().sum()}')\n",
    "print(data_awal.info())"
   ]
  },
  {
   "cell_type": "markdown",
   "metadata": {},
   "source": [
    "Cleaning Field Profession"
   ]
  },
  {
   "cell_type": "code",
   "execution_count": 16,
   "metadata": {},
   "outputs": [
    {
     "name": "stdout",
     "output_type": "stream",
     "text": [
      "<class 'pandas.core.series.Series'>\n",
      "RangeIndex: 2627 entries, 0 to 2626\n",
      "Series name: Profession\n",
      "Non-Null Count  Dtype \n",
      "--------------  ----- \n",
      "2627 non-null   object\n",
      "dtypes: object(1)\n",
      "memory usage: 20.7+ KB\n",
      "None\n",
      "<class 'pandas.core.frame.DataFrame'>\n",
      "RangeIndex: 2627 entries, 0 to 2626\n",
      "Data columns (total 10 columns):\n",
      " #   Column           Non-Null Count  Dtype  \n",
      "---  ------           --------------  -----  \n",
      " 0   ID               2627 non-null   int64  \n",
      " 1   Gender           2627 non-null   object \n",
      " 2   Ever_Married     2627 non-null   object \n",
      " 3   Age              2627 non-null   int64  \n",
      " 4   Graduated        2627 non-null   object \n",
      " 5   Profession       2627 non-null   object \n",
      " 6   Work_Experience  2358 non-null   float64\n",
      " 7   Spending_Score   2627 non-null   object \n",
      " 8   Family_Size      2514 non-null   float64\n",
      " 9   Var_1            2595 non-null   object \n",
      "dtypes: float64(2), int64(2), object(6)\n",
      "memory usage: 205.4+ KB\n"
     ]
    },
    {
     "name": "stderr",
     "output_type": "stream",
     "text": [
      "C:\\Users\\luthf\\AppData\\Local\\Temp\\ipykernel_103196\\819852240.py:4: FutureWarning: A value is trying to be set on a copy of a DataFrame or Series through chained assignment using an inplace method.\n",
      "The behavior will change in pandas 3.0. This inplace method will never work because the intermediate object on which we are setting values always behaves as a copy.\n",
      "\n",
      "For example, when doing 'df[col].method(value, inplace=True)', try using 'df.method({col: value}, inplace=True)' or df[col] = df[col].method(value) instead, to perform the operation inplace on the original object.\n",
      "\n",
      "\n",
      "  data_awal['Profession'].fillna('Jobless',inplace=True)\n"
     ]
    }
   ],
   "source": [
    "#mengisi field kosong dengan teks 'jobless' \n",
    "#karena pada field kosong 'Graduated' diisi 'Yes'\n",
    "#jika field kosong pada 'Profession' maka dianggap jobless\n",
    "data_awal['Profession'].fillna('Jobless',inplace=True)\n",
    "print(data_awal['Profession'].info())\n",
    "data_awal.info()"
   ]
  },
  {
   "cell_type": "markdown",
   "metadata": {},
   "source": [
    "Cleaning field Work Experience"
   ]
  },
  {
   "cell_type": "code",
   "execution_count": 17,
   "metadata": {},
   "outputs": [
    {
     "name": "stdout",
     "output_type": "stream",
     "text": [
      "<class 'pandas.core.frame.DataFrame'>\n",
      "RangeIndex: 2627 entries, 0 to 2626\n",
      "Data columns (total 10 columns):\n",
      " #   Column           Non-Null Count  Dtype  \n",
      "---  ------           --------------  -----  \n",
      " 0   ID               2627 non-null   int64  \n",
      " 1   Gender           2627 non-null   object \n",
      " 2   Ever_Married     2627 non-null   object \n",
      " 3   Age              2627 non-null   int64  \n",
      " 4   Graduated        2627 non-null   object \n",
      " 5   Profession       2627 non-null   object \n",
      " 6   Work_Experience  2627 non-null   float64\n",
      " 7   Spending_Score   2627 non-null   object \n",
      " 8   Family_Size      2514 non-null   float64\n",
      " 9   Var_1            2595 non-null   object \n",
      "dtypes: float64(2), int64(2), object(6)\n",
      "memory usage: 205.4+ KB\n"
     ]
    },
    {
     "name": "stderr",
     "output_type": "stream",
     "text": [
      "C:\\Users\\luthf\\AppData\\Local\\Temp\\ipykernel_103196\\248084752.py:4: FutureWarning: A value is trying to be set on a copy of a DataFrame or Series through chained assignment using an inplace method.\n",
      "The behavior will change in pandas 3.0. This inplace method will never work because the intermediate object on which we are setting values always behaves as a copy.\n",
      "\n",
      "For example, when doing 'df[col].method(value, inplace=True)', try using 'df.method({col: value}, inplace=True)' or df[col] = df[col].method(value) instead, to perform the operation inplace on the original object.\n",
      "\n",
      "\n",
      "  data_awal['Work_Experience'].fillna(0,inplace=True)\n"
     ]
    }
   ],
   "source": [
    "#mengisi field 'Work Experience' dengan 0\n",
    "#karena baik sudah lulus maupun belum lulus, baik udah bekerja atau belum bekerja\n",
    "#saya mengasumsikan bahsa mereka belum memiliki pengalaman dalam bekerja\n",
    "data_awal['Work_Experience'].fillna(0,inplace=True)\n",
    "data_awal.info()"
   ]
  },
  {
   "cell_type": "markdown",
   "metadata": {},
   "source": [
    "Cleaning field Family Size"
   ]
  },
  {
   "cell_type": "code",
   "execution_count": 18,
   "metadata": {},
   "outputs": [
    {
     "name": "stdout",
     "output_type": "stream",
     "text": [
      "<class 'pandas.core.frame.DataFrame'>\n",
      "RangeIndex: 2627 entries, 0 to 2626\n",
      "Data columns (total 10 columns):\n",
      " #   Column           Non-Null Count  Dtype  \n",
      "---  ------           --------------  -----  \n",
      " 0   ID               2627 non-null   int64  \n",
      " 1   Gender           2627 non-null   object \n",
      " 2   Ever_Married     2627 non-null   object \n",
      " 3   Age              2627 non-null   int64  \n",
      " 4   Graduated        2627 non-null   object \n",
      " 5   Profession       2627 non-null   object \n",
      " 6   Work_Experience  2627 non-null   float64\n",
      " 7   Spending_Score   2627 non-null   object \n",
      " 8   Family_Size      2627 non-null   float64\n",
      " 9   Var_1            2595 non-null   object \n",
      "dtypes: float64(2), int64(2), object(6)\n",
      "memory usage: 205.4+ KB\n"
     ]
    },
    {
     "name": "stderr",
     "output_type": "stream",
     "text": [
      "C:\\Users\\luthf\\AppData\\Local\\Temp\\ipykernel_103196\\2517676555.py:3: FutureWarning: A value is trying to be set on a copy of a DataFrame or Series through chained assignment using an inplace method.\n",
      "The behavior will change in pandas 3.0. This inplace method will never work because the intermediate object on which we are setting values always behaves as a copy.\n",
      "\n",
      "For example, when doing 'df[col].method(value, inplace=True)', try using 'df.method({col: value}, inplace=True)' or df[col] = df[col].method(value) instead, to perform the operation inplace on the original object.\n",
      "\n",
      "\n",
      "  data_awal['Family_Size'].fillna(nilai_sering_muncul,inplace=True)\n"
     ]
    }
   ],
   "source": [
    "#mengisi field kosong pada family size dengan menggunakan nilai modus pada kolom\n",
    "nilai_sering_muncul = data_awal['Family_Size'].mode()[0]\n",
    "data_awal['Family_Size'].fillna(nilai_sering_muncul,inplace=True)\n",
    "data_awal.info()"
   ]
  },
  {
   "cell_type": "markdown",
   "metadata": {},
   "source": [
    "Cleaning Field Var_1"
   ]
  },
  {
   "cell_type": "code",
   "execution_count": 19,
   "metadata": {},
   "outputs": [
    {
     "name": "stdout",
     "output_type": "stream",
     "text": [
      "<class 'pandas.core.frame.DataFrame'>\n",
      "RangeIndex: 2627 entries, 0 to 2626\n",
      "Data columns (total 10 columns):\n",
      " #   Column           Non-Null Count  Dtype  \n",
      "---  ------           --------------  -----  \n",
      " 0   ID               2627 non-null   int64  \n",
      " 1   Gender           2627 non-null   object \n",
      " 2   Ever_Married     2627 non-null   object \n",
      " 3   Age              2627 non-null   int64  \n",
      " 4   Graduated        2627 non-null   object \n",
      " 5   Profession       2627 non-null   object \n",
      " 6   Work_Experience  2627 non-null   float64\n",
      " 7   Spending_Score   2627 non-null   object \n",
      " 8   Family_Size      2627 non-null   float64\n",
      " 9   Var_1            2627 non-null   object \n",
      "dtypes: float64(2), int64(2), object(6)\n",
      "memory usage: 205.4+ KB\n"
     ]
    }
   ],
   "source": [
    "#mengisi field kosong pada Var_1 dengan menggunakan nilai yang sering muncul dalam field\n",
    "nilai_sering_muncul = data_awal['Var_1'].mode()[0]\n",
    "data_awal['Var_1'] = data_awal['Var_1'].fillna(nilai_sering_muncul)\n",
    "data_awal.info()"
   ]
  },
  {
   "cell_type": "markdown",
   "metadata": {},
   "source": [
    "Download dataset"
   ]
  },
  {
   "cell_type": "code",
   "execution_count": 20,
   "metadata": {},
   "outputs": [],
   "source": [
    "data_awal.to_csv('data_test_clean.csv', encoding='utf-8-sig')"
   ]
  },
  {
   "cell_type": "code",
   "execution_count": null,
   "metadata": {},
   "outputs": [],
   "source": []
  }
 ],
 "metadata": {
  "kernelspec": {
   "display_name": "Python 3",
   "language": "python",
   "name": "python3"
  },
  "language_info": {
   "codemirror_mode": {
    "name": "ipython",
    "version": 3
   },
   "file_extension": ".py",
   "mimetype": "text/x-python",
   "name": "python",
   "nbconvert_exporter": "python",
   "pygments_lexer": "ipython3",
   "version": "3.12.1"
  }
 },
 "nbformat": 4,
 "nbformat_minor": 2
}
